{
 "cells": [
  {
   "cell_type": "markdown",
   "metadata": {},
   "source": [
    "# Prédiction du nombre de nouveaux étudiants en L1"
   ]
  },
  {
   "cell_type": "markdown",
   "metadata": {},
   "source": [
    "## 1. Prétraitement des données\n",
    "\n",
    "- Importation des librairies\n",
    "- Importation du jeu de données\n",
    "- Nettoyage des données:\n",
    "    1. Verification s'il y a des données manquantes au jeu de données"
   ]
  },
  {
   "cell_type": "code",
   "execution_count": 226,
   "metadata": {},
   "outputs": [],
   "source": [
    "import pandas as pd\n",
    "import numpy as np\n",
    "import matplotlib as plt\n",
    "import seaborn"
   ]
  },
  {
   "cell_type": "markdown",
   "metadata": {},
   "source": [
    "Récupéraion du dataset"
   ]
  },
  {
   "cell_type": "code",
   "execution_count": 227,
   "metadata": {},
   "outputs": [],
   "source": [
    "df = pd.read_csv(\"datas/prop_admi_post_bac.csv\",sep=\";\")"
   ]
  },
  {
   "cell_type": "markdown",
   "metadata": {},
   "source": [
    "Visualisation des données"
   ]
  },
  {
   "cell_type": "code",
   "execution_count": 228,
   "metadata": {},
   "outputs": [
    {
     "data": {
      "text/html": [
       "<div>\n",
       "<style scoped>\n",
       "    .dataframe tbody tr th:only-of-type {\n",
       "        vertical-align: middle;\n",
       "    }\n",
       "\n",
       "    .dataframe tbody tr th {\n",
       "        vertical-align: top;\n",
       "    }\n",
       "\n",
       "    .dataframe thead th {\n",
       "        text-align: right;\n",
       "    }\n",
       "</style>\n",
       "<table border=\"1\" class=\"dataframe\">\n",
       "  <thead>\n",
       "    <tr style=\"text-align: right;\">\n",
       "      <th></th>\n",
       "      <th>Année du Baccalauréat</th>\n",
       "      <th>Enseignements de spécialité</th>\n",
       "      <th>Formation</th>\n",
       "      <th>Nombre de candidats bacheliers ayant confirmé au moins un vœu</th>\n",
       "      <th>Nombre de candidats bacheliers ayant reçu au moins une proposition d'admission</th>\n",
       "      <th>Nombre de candidats bacheliers ayant accepté une proposition d'admission</th>\n",
       "    </tr>\n",
       "  </thead>\n",
       "  <tbody>\n",
       "    <tr>\n",
       "      <th>0</th>\n",
       "      <td>2021</td>\n",
       "      <td>Art,Art</td>\n",
       "      <td>Licence Electronique, Génie électrique, EEA</td>\n",
       "      <td>0</td>\n",
       "      <td>0.0</td>\n",
       "      <td>0</td>\n",
       "    </tr>\n",
       "    <tr>\n",
       "      <th>1</th>\n",
       "      <td>2021</td>\n",
       "      <td>Art,Art</td>\n",
       "      <td>Licence Formation générale aux métiers de l in...</td>\n",
       "      <td>0</td>\n",
       "      <td>0.0</td>\n",
       "      <td>0</td>\n",
       "    </tr>\n",
       "    <tr>\n",
       "      <th>2</th>\n",
       "      <td>2021</td>\n",
       "      <td>Art,Art</td>\n",
       "      <td>Licence LEA</td>\n",
       "      <td>0</td>\n",
       "      <td>0.0</td>\n",
       "      <td>0</td>\n",
       "    </tr>\n",
       "    <tr>\n",
       "      <th>3</th>\n",
       "      <td>2021</td>\n",
       "      <td>Art,Art</td>\n",
       "      <td>Licence Mathématiques</td>\n",
       "      <td>0</td>\n",
       "      <td>0.0</td>\n",
       "      <td>0</td>\n",
       "    </tr>\n",
       "    <tr>\n",
       "      <th>4</th>\n",
       "      <td>2021</td>\n",
       "      <td>Art,Art</td>\n",
       "      <td>Licence Mathématiques et informatique</td>\n",
       "      <td>0</td>\n",
       "      <td>0.0</td>\n",
       "      <td>0</td>\n",
       "    </tr>\n",
       "  </tbody>\n",
       "</table>\n",
       "</div>"
      ],
      "text/plain": [
       "   Année du Baccalauréat Enseignements de spécialité  \\\n",
       "0                   2021                     Art,Art   \n",
       "1                   2021                     Art,Art   \n",
       "2                   2021                     Art,Art   \n",
       "3                   2021                     Art,Art   \n",
       "4                   2021                     Art,Art   \n",
       "\n",
       "                                           Formation  \\\n",
       "0        Licence Electronique, Génie électrique, EEA   \n",
       "1  Licence Formation générale aux métiers de l in...   \n",
       "2                                        Licence LEA   \n",
       "3                              Licence Mathématiques   \n",
       "4              Licence Mathématiques et informatique   \n",
       "\n",
       "   Nombre de candidats bacheliers ayant confirmé au moins un vœu  \\\n",
       "0                                                  0               \n",
       "1                                                  0               \n",
       "2                                                  0               \n",
       "3                                                  0               \n",
       "4                                                  0               \n",
       "\n",
       "   Nombre de candidats bacheliers ayant reçu au moins une proposition d'admission  \\\n",
       "0                                                0.0                                \n",
       "1                                                0.0                                \n",
       "2                                                0.0                                \n",
       "3                                                0.0                                \n",
       "4                                                0.0                                \n",
       "\n",
       "   Nombre de candidats bacheliers ayant accepté une proposition d'admission  \n",
       "0                                                  0                         \n",
       "1                                                  0                         \n",
       "2                                                  0                         \n",
       "3                                                  0                         \n",
       "4                                                  0                         "
      ]
     },
     "execution_count": 228,
     "metadata": {},
     "output_type": "execute_result"
    }
   ],
   "source": [
    "df.head(5)"
   ]
  },
  {
   "cell_type": "markdown",
   "metadata": {},
   "source": [
    "Nous vérifions si une colonne comporte des données manquantes. Comme nous pouvons le voir, aucune ligne n'est vide."
   ]
  },
  {
   "cell_type": "code",
   "execution_count": 229,
   "metadata": {},
   "outputs": [
    {
     "data": {
      "text/plain": [
       "Année du Baccalauréat                                                             0\n",
       "Enseignements de spécialité                                                       0\n",
       "Formation                                                                         0\n",
       "Nombre de candidats bacheliers ayant confirmé au moins un vœu                     0\n",
       "Nombre de candidats bacheliers ayant reçu au moins une proposition d'admission    0\n",
       "Nombre de candidats bacheliers ayant accepté une proposition d'admission          0\n",
       "dtype: int64"
      ]
     },
     "execution_count": 229,
     "metadata": {},
     "output_type": "execute_result"
    }
   ],
   "source": [
    "df.isna().sum()"
   ]
  },
  {
   "cell_type": "markdown",
   "metadata": {},
   "source": [
    "Renommage des colonnes par soucis de simplification lors du traitement."
   ]
  },
  {
   "cell_type": "code",
   "execution_count": 230,
   "metadata": {},
   "outputs": [
    {
     "data": {
      "text/html": [
       "<div>\n",
       "<style scoped>\n",
       "    .dataframe tbody tr th:only-of-type {\n",
       "        vertical-align: middle;\n",
       "    }\n",
       "\n",
       "    .dataframe tbody tr th {\n",
       "        vertical-align: top;\n",
       "    }\n",
       "\n",
       "    .dataframe thead th {\n",
       "        text-align: right;\n",
       "    }\n",
       "</style>\n",
       "<table border=\"1\" class=\"dataframe\">\n",
       "  <thead>\n",
       "    <tr style=\"text-align: right;\">\n",
       "      <th></th>\n",
       "      <th>annee</th>\n",
       "      <th>spe</th>\n",
       "      <th>formation</th>\n",
       "      <th>voeu_confirme</th>\n",
       "      <th>prop_recu</th>\n",
       "      <th>prop_accepte</th>\n",
       "    </tr>\n",
       "  </thead>\n",
       "  <tbody>\n",
       "    <tr>\n",
       "      <th>0</th>\n",
       "      <td>2021</td>\n",
       "      <td>Art,Art</td>\n",
       "      <td>Licence Electronique, Génie électrique, EEA</td>\n",
       "      <td>0</td>\n",
       "      <td>0.0</td>\n",
       "      <td>0</td>\n",
       "    </tr>\n",
       "    <tr>\n",
       "      <th>1</th>\n",
       "      <td>2021</td>\n",
       "      <td>Art,Art</td>\n",
       "      <td>Licence Formation générale aux métiers de l in...</td>\n",
       "      <td>0</td>\n",
       "      <td>0.0</td>\n",
       "      <td>0</td>\n",
       "    </tr>\n",
       "    <tr>\n",
       "      <th>2</th>\n",
       "      <td>2021</td>\n",
       "      <td>Art,Art</td>\n",
       "      <td>Licence LEA</td>\n",
       "      <td>0</td>\n",
       "      <td>0.0</td>\n",
       "      <td>0</td>\n",
       "    </tr>\n",
       "    <tr>\n",
       "      <th>3</th>\n",
       "      <td>2021</td>\n",
       "      <td>Art,Art</td>\n",
       "      <td>Licence Mathématiques</td>\n",
       "      <td>0</td>\n",
       "      <td>0.0</td>\n",
       "      <td>0</td>\n",
       "    </tr>\n",
       "    <tr>\n",
       "      <th>4</th>\n",
       "      <td>2021</td>\n",
       "      <td>Art,Art</td>\n",
       "      <td>Licence Mathématiques et informatique</td>\n",
       "      <td>0</td>\n",
       "      <td>0.0</td>\n",
       "      <td>0</td>\n",
       "    </tr>\n",
       "  </tbody>\n",
       "</table>\n",
       "</div>"
      ],
      "text/plain": [
       "   annee      spe                                          formation  \\\n",
       "0   2021  Art,Art        Licence Electronique, Génie électrique, EEA   \n",
       "1   2021  Art,Art  Licence Formation générale aux métiers de l in...   \n",
       "2   2021  Art,Art                                        Licence LEA   \n",
       "3   2021  Art,Art                              Licence Mathématiques   \n",
       "4   2021  Art,Art              Licence Mathématiques et informatique   \n",
       "\n",
       "   voeu_confirme  prop_recu  prop_accepte  \n",
       "0              0        0.0             0  \n",
       "1              0        0.0             0  \n",
       "2              0        0.0             0  \n",
       "3              0        0.0             0  \n",
       "4              0        0.0             0  "
      ]
     },
     "execution_count": 230,
     "metadata": {},
     "output_type": "execute_result"
    }
   ],
   "source": [
    "df.rename(columns={\"Année du Baccalauréat\" : \"annee\",\n",
    "           \"Enseignements de spécialité\" : \"spe\",\n",
    "           \"Formation\": \"formation\",\n",
    "           \"Nombre de candidats bacheliers ayant confirmé au moins un vœu\" : \"voeu_confirme\",\n",
    "           \"Nombre de candidats bacheliers ayant reçu au moins une proposition d'admission\" : \"prop_recu\",\n",
    "           \"Nombre de candidats bacheliers ayant accepté une proposition d'admission\" : \"prop_accepte\"}, inplace=True)\n",
    "df.head(5)"
   ]
  },
  {
   "cell_type": "markdown",
   "metadata": {},
   "source": [
    "Vérification et correction au besoin des types de données.\n",
    "\n",
    "Ici on remarque que prop_recu est de type float64. Aucune des valeurs de la colonne n'est de type float, on peu donc passer la colonne en Int."
   ]
  },
  {
   "cell_type": "code",
   "execution_count": 231,
   "metadata": {},
   "outputs": [
    {
     "data": {
      "text/plain": [
       "annee              int64\n",
       "spe               object\n",
       "formation         object\n",
       "voeu_confirme      int64\n",
       "prop_recu        float64\n",
       "prop_accepte       int64\n",
       "dtype: object"
      ]
     },
     "execution_count": 231,
     "metadata": {},
     "output_type": "execute_result"
    }
   ],
   "source": [
    "df.dtypes"
   ]
  },
  {
   "cell_type": "code",
   "execution_count": 232,
   "metadata": {},
   "outputs": [
    {
     "data": {
      "text/plain": [
       "array([4022, 1091,  641,  412,  325,  257,  228,  216,  169,  141,  132,\n",
       "        117,  115,   91,   87,   82,   78,   75,   74,   71,   65,   60,\n",
       "         59,   52,   48,   46,   43,   42,   40,   39,   37,   36,   35,\n",
       "         34,   29,   27,   25,   23,   22,   21,   20,   19,   18,   17,\n",
       "         16,   15,   14,   13,   12,   11,   10,    9,    8,    7,    6,\n",
       "          5,    4,    3,    2,    1])"
      ]
     },
     "execution_count": 232,
     "metadata": {},
     "output_type": "execute_result"
    }
   ],
   "source": [
    "df[\"prop_recu\"].value_counts().unique()"
   ]
  },
  {
   "cell_type": "code",
   "execution_count": 233,
   "metadata": {},
   "outputs": [],
   "source": [
    "df[\"prop_recu\"] = df[\"prop_recu\"].astype(int)"
   ]
  },
  {
   "cell_type": "code",
   "execution_count": 234,
   "metadata": {},
   "outputs": [
    {
     "data": {
      "text/plain": [
       "annee             int64\n",
       "spe              object\n",
       "formation        object\n",
       "voeu_confirme     int64\n",
       "prop_recu         int64\n",
       "prop_accepte      int64\n",
       "dtype: object"
      ]
     },
     "execution_count": 234,
     "metadata": {},
     "output_type": "execute_result"
    }
   ],
   "source": [
    "df.dtypes"
   ]
  },
  {
   "cell_type": "markdown",
   "metadata": {},
   "source": [
    "On sait que le nouveau bac demande à choisir une spécialité dominante et une spécialité secondaire. On remarque que la colonne spe sépare ses données par une virgule, mais parfois le nom d'une spécialité contient une virgule. On remarque également que lorsque la virgule sépare deux spécialités (Art,Art), il n'y a pas d'espace après celle-ci, et que quand la virgule est dans le nom d'une spécialité, (Histoire-Géographie, Géopolitique et Sciences politiques), il y a un espace après la virgule. "
   ]
  },
  {
   "cell_type": "markdown",
   "metadata": {},
   "source": [
    "Pour pouvoir continuer à traiter les données nous décidons de séparer la colonne `spe` en deux colonnes distinctes, l'une contenant la spécialité principale `spe_prim` et l'autre la spécialité secondaire `spe_sec`.\n",
    "Le but est ainsi de pouvoir aisement trier selon l'une ou l'autre des spécialités ainsi que de pouvoir comparer les duos de spécialité menant à une certaine formation dans l'enseignement supérieur."
   ]
  },
  {
   "cell_type": "code",
   "execution_count": 235,
   "metadata": {},
   "outputs": [],
   "source": [
    "import re\n",
    "\n",
    "def split_string(text):\n",
    "    result = re.split(r'(?<=\\w),(?=\\w)', text)\n",
    "    return pd.Series([result[0],result[1]])\n",
    "\n",
    "df[['spe_prim', 'spe_sec']] = df['spe'].apply(split_string)"
   ]
  },
  {
   "cell_type": "markdown",
   "metadata": {},
   "source": [
    "## Lecture des données"
   ]
  },
  {
   "cell_type": "markdown",
   "metadata": {},
   "source": [
    "Nous avons 6 variables différentes dans notre dataset :\n",
    "\n",
    "- annee :\n",
    "    - L'année du passage du BAC pour les étudiants\n",
    "    - type *int*, [2021-2023]\n",
    "- spé :\n",
    "    - Spécialités lors du passage du BAC\n",
    "    - type *(string, string)*: (spé1,spé2)\n",
    "- formation : \n",
    "    - Formation postulés par les étudiants, \n",
    "    - type *string*\n",
    "- voeu_accepté :\n",
    "    - Nombre de voeux confirmés par les étudiants\n",
    "    - type *int*, [0, inf]\n",
    "- prop_recu :\n",
    "    - Nombre de propositions d'admission reçus par les étudiants\n",
    "    - type *int*, [0, prop_reçu]\n",
    "- prop_accepte :\n",
    "     - Nombre de proposition d'admission acceptés par les étudiants\n",
    "    - type *int*, [0, voeu_accepté]"
   ]
  },
  {
   "cell_type": "markdown",
   "metadata": {},
   "source": [
    "## Première visualisation\n",
    "\n",
    "Pour commencer, nous allons regarder globalement ce que nous disent ces données. Pour se faire nous allons faire deux visualisations. \n",
    "\n",
    "- La première consiste à regarder pour chaque duo de spécialités :\n",
    "    - Quelle formation ce duo demande le plus.\n",
    "    - De quelle formation ce duo reçois le plus de propositions d'admissions.\n",
    "    - Dans quelle formation ce duo accepte finnalement une proposition d'admission.\n",
    "- La seconde sera la même chose mais du point de vue de chaque formation:\n",
    "    - Quel duo de spécialité demande le plus cette formation.\n",
    "    - A quel duo cette formation envoie le plus d'offre d'admissions.\n",
    "    - De quel duo de spécialité cette formation reçois finalement le plus d'étudiants.\n",
    "\n",
    "Cette première visualisation nous permettra de mettre en évidence une première tendance entre les formations et les duos.\n",
    "\n",
    "Dans les données pour chaque années et chaque duo de formation se trouve une ligne \"Ensemble des bacheleirs\" qui regroupe pour cette année et ce duo le total des demandes et confirmations. Pour que la visualisation ne nous donne pas à chaque fois ce total, on utilise un mask pour enlever la ligne en question, mais sans l'enlever de notre dataframe car on pourrait en avoir besoin plus tard."
   ]
  },
  {
   "cell_type": "code",
   "execution_count": 236,
   "metadata": {},
   "outputs": [
    {
     "name": "stdout",
     "output_type": "stream",
     "text": [
      "59892\n"
     ]
    }
   ],
   "source": [
    "mask_no_ens_bac = (df[\"formation\"] != \"Ensemble des bacheliers\")\n",
    "max_clean = df[mask_no_ens_bac][\"voeu_confirme\"].max()\n",
    "print(max_clean)"
   ]
  },
  {
   "cell_type": "code",
   "execution_count": 265,
   "metadata": {},
   "outputs": [],
   "source": [
    "def get_voeu_confirme_max():\n",
    "    df_tmp = pd.DataFrame(columns=['annee','spe', 'formation', 'voeu_confirme'])\n",
    "    for i in df[\"spe\"].unique():\n",
    "        mask = ((df[\"spe\"] == i) & (df[\"formation\"] != \"Ensemble des bacheliers\"))\n",
    "        max = df[mask][\"voeu_confirme\"].max()\n",
    "        new_mask = ((df[\"spe\"] == i) & (df[\"formation\"] != \"Ensemble des bacheliers\") & (df[\"voeu_confirme\"] == max))\n",
    "        #print(df[mask][df[\"voeu_confirme\"] == max][[\"spe\",\"formation\",\"voeu_confirme\"]])\n",
    "        df_tmp.loc[df_tmp.shape[0]] = {'annee':df[new_mask]['annee'], 'spe':df[new_mask]['spe'], 'formation':df[new_mask]['formation'], 'voeu_confirme':df[new_mask]['voeu_confirme']}\n",
    "    fig, ax = plt.pyplot.subplots()\n",
    "    ax.bar(df_tmp['voeu_confirme'], df_tmp['spe'])\n",
    "    plt.pyplot.show()"
   ]
  },
  {
   "cell_type": "code",
   "execution_count": 266,
   "metadata": {},
   "outputs": [
    {
     "ename": "TypeError",
     "evalue": "unhashable type: 'Series'",
     "output_type": "error",
     "traceback": [
      "\u001b[0;31m---------------------------------------------------------------------------\u001b[0m",
      "\u001b[0;31mTypeError\u001b[0m                                 Traceback (most recent call last)",
      "Cell \u001b[0;32mIn[266], line 1\u001b[0m\n\u001b[0;32m----> 1\u001b[0m \u001b[43mget_voeu_confirme_max\u001b[49m\u001b[43m(\u001b[49m\u001b[43m)\u001b[49m\n",
      "Cell \u001b[0;32mIn[265], line 10\u001b[0m, in \u001b[0;36mget_voeu_confirme_max\u001b[0;34m()\u001b[0m\n\u001b[1;32m      8\u001b[0m     df_tmp\u001b[38;5;241m.\u001b[39mloc[df_tmp\u001b[38;5;241m.\u001b[39mshape[\u001b[38;5;241m0\u001b[39m]] \u001b[38;5;241m=\u001b[39m {\u001b[38;5;124m'\u001b[39m\u001b[38;5;124mannee\u001b[39m\u001b[38;5;124m'\u001b[39m:df[new_mask][\u001b[38;5;124m'\u001b[39m\u001b[38;5;124mannee\u001b[39m\u001b[38;5;124m'\u001b[39m], \u001b[38;5;124m'\u001b[39m\u001b[38;5;124mspe\u001b[39m\u001b[38;5;124m'\u001b[39m:df[new_mask][\u001b[38;5;124m'\u001b[39m\u001b[38;5;124mspe\u001b[39m\u001b[38;5;124m'\u001b[39m], \u001b[38;5;124m'\u001b[39m\u001b[38;5;124mformation\u001b[39m\u001b[38;5;124m'\u001b[39m:df[new_mask][\u001b[38;5;124m'\u001b[39m\u001b[38;5;124mformation\u001b[39m\u001b[38;5;124m'\u001b[39m], \u001b[38;5;124m'\u001b[39m\u001b[38;5;124mvoeu_confirme\u001b[39m\u001b[38;5;124m'\u001b[39m:df[new_mask][\u001b[38;5;124m'\u001b[39m\u001b[38;5;124mvoeu_confirme\u001b[39m\u001b[38;5;124m'\u001b[39m]}\n\u001b[1;32m      9\u001b[0m fig, ax \u001b[38;5;241m=\u001b[39m plt\u001b[38;5;241m.\u001b[39mpyplot\u001b[38;5;241m.\u001b[39msubplots()\n\u001b[0;32m---> 10\u001b[0m \u001b[43max\u001b[49m\u001b[38;5;241;43m.\u001b[39;49m\u001b[43mbar\u001b[49m\u001b[43m(\u001b[49m\u001b[43mdf_tmp\u001b[49m\u001b[43m[\u001b[49m\u001b[38;5;124;43m'\u001b[39;49m\u001b[38;5;124;43mvoeu_confirme\u001b[39;49m\u001b[38;5;124;43m'\u001b[39;49m\u001b[43m]\u001b[49m\u001b[43m,\u001b[49m\u001b[43m \u001b[49m\u001b[43mdf_tmp\u001b[49m\u001b[43m[\u001b[49m\u001b[38;5;124;43m'\u001b[39;49m\u001b[38;5;124;43mspe\u001b[39;49m\u001b[38;5;124;43m'\u001b[39;49m\u001b[43m]\u001b[49m\u001b[43m)\u001b[49m\n\u001b[1;32m     11\u001b[0m plt\u001b[38;5;241m.\u001b[39mpyplot\u001b[38;5;241m.\u001b[39mshow()\n",
      "File \u001b[0;32m~/Documents/Master/M2/Fouille des données/Projet/Projet_FDD/myenv/lib/python3.10/site-packages/matplotlib/__init__.py:1473\u001b[0m, in \u001b[0;36m_preprocess_data.<locals>.inner\u001b[0;34m(ax, data, *args, **kwargs)\u001b[0m\n\u001b[1;32m   1470\u001b[0m \u001b[38;5;129m@functools\u001b[39m\u001b[38;5;241m.\u001b[39mwraps(func)\n\u001b[1;32m   1471\u001b[0m \u001b[38;5;28;01mdef\u001b[39;00m \u001b[38;5;21minner\u001b[39m(ax, \u001b[38;5;241m*\u001b[39margs, data\u001b[38;5;241m=\u001b[39m\u001b[38;5;28;01mNone\u001b[39;00m, \u001b[38;5;241m*\u001b[39m\u001b[38;5;241m*\u001b[39mkwargs):\n\u001b[1;32m   1472\u001b[0m     \u001b[38;5;28;01mif\u001b[39;00m data \u001b[38;5;129;01mis\u001b[39;00m \u001b[38;5;28;01mNone\u001b[39;00m:\n\u001b[0;32m-> 1473\u001b[0m         \u001b[38;5;28;01mreturn\u001b[39;00m \u001b[43mfunc\u001b[49m\u001b[43m(\u001b[49m\n\u001b[1;32m   1474\u001b[0m \u001b[43m            \u001b[49m\u001b[43max\u001b[49m\u001b[43m,\u001b[49m\n\u001b[1;32m   1475\u001b[0m \u001b[43m            \u001b[49m\u001b[38;5;241;43m*\u001b[39;49m\u001b[38;5;28;43mmap\u001b[39;49m\u001b[43m(\u001b[49m\u001b[43msanitize_sequence\u001b[49m\u001b[43m,\u001b[49m\u001b[43m \u001b[49m\u001b[43margs\u001b[49m\u001b[43m)\u001b[49m\u001b[43m,\u001b[49m\n\u001b[1;32m   1476\u001b[0m \u001b[43m            \u001b[49m\u001b[38;5;241;43m*\u001b[39;49m\u001b[38;5;241;43m*\u001b[39;49m\u001b[43m{\u001b[49m\u001b[43mk\u001b[49m\u001b[43m:\u001b[49m\u001b[43m \u001b[49m\u001b[43msanitize_sequence\u001b[49m\u001b[43m(\u001b[49m\u001b[43mv\u001b[49m\u001b[43m)\u001b[49m\u001b[43m \u001b[49m\u001b[38;5;28;43;01mfor\u001b[39;49;00m\u001b[43m \u001b[49m\u001b[43mk\u001b[49m\u001b[43m,\u001b[49m\u001b[43m \u001b[49m\u001b[43mv\u001b[49m\u001b[43m \u001b[49m\u001b[38;5;129;43;01min\u001b[39;49;00m\u001b[43m \u001b[49m\u001b[43mkwargs\u001b[49m\u001b[38;5;241;43m.\u001b[39;49m\u001b[43mitems\u001b[49m\u001b[43m(\u001b[49m\u001b[43m)\u001b[49m\u001b[43m}\u001b[49m\u001b[43m)\u001b[49m\n\u001b[1;32m   1478\u001b[0m     bound \u001b[38;5;241m=\u001b[39m new_sig\u001b[38;5;241m.\u001b[39mbind(ax, \u001b[38;5;241m*\u001b[39margs, \u001b[38;5;241m*\u001b[39m\u001b[38;5;241m*\u001b[39mkwargs)\n\u001b[1;32m   1479\u001b[0m     auto_label \u001b[38;5;241m=\u001b[39m (bound\u001b[38;5;241m.\u001b[39marguments\u001b[38;5;241m.\u001b[39mget(label_namer)\n\u001b[1;32m   1480\u001b[0m                   \u001b[38;5;129;01mor\u001b[39;00m bound\u001b[38;5;241m.\u001b[39mkwargs\u001b[38;5;241m.\u001b[39mget(label_namer))\n",
      "File \u001b[0;32m~/Documents/Master/M2/Fouille des données/Projet/Projet_FDD/myenv/lib/python3.10/site-packages/matplotlib/axes/_axes.py:2492\u001b[0m, in \u001b[0;36mAxes.bar\u001b[0;34m(self, x, height, width, bottom, align, **kwargs)\u001b[0m\n\u001b[1;32m   2486\u001b[0m         x \u001b[38;5;241m=\u001b[39m \u001b[38;5;241m0\u001b[39m\n\u001b[1;32m   2488\u001b[0m \u001b[38;5;28;01mif\u001b[39;00m orientation \u001b[38;5;241m==\u001b[39m \u001b[38;5;124m'\u001b[39m\u001b[38;5;124mvertical\u001b[39m\u001b[38;5;124m'\u001b[39m:\n\u001b[1;32m   2489\u001b[0m     \u001b[38;5;66;03m# It is possible for y (bottom) to contain unit information.\u001b[39;00m\n\u001b[1;32m   2490\u001b[0m     \u001b[38;5;66;03m# However, it is also possible for y=0 for the default and height\u001b[39;00m\n\u001b[1;32m   2491\u001b[0m     \u001b[38;5;66;03m# to contain unit information.  This will prioritize the units of y.\u001b[39;00m\n\u001b[0;32m-> 2492\u001b[0m     \u001b[38;5;28;43mself\u001b[39;49m\u001b[38;5;241;43m.\u001b[39;49m\u001b[43m_process_unit_info\u001b[49m\u001b[43m(\u001b[49m\n\u001b[1;32m   2493\u001b[0m \u001b[43m        \u001b[49m\u001b[43m[\u001b[49m\u001b[43m(\u001b[49m\u001b[38;5;124;43m\"\u001b[39;49m\u001b[38;5;124;43mx\u001b[39;49m\u001b[38;5;124;43m\"\u001b[39;49m\u001b[43m,\u001b[49m\u001b[43m \u001b[49m\u001b[43mx\u001b[49m\u001b[43m)\u001b[49m\u001b[43m,\u001b[49m\u001b[43m \u001b[49m\u001b[43m(\u001b[49m\u001b[38;5;124;43m\"\u001b[39;49m\u001b[38;5;124;43my\u001b[39;49m\u001b[38;5;124;43m\"\u001b[39;49m\u001b[43m,\u001b[49m\u001b[43m \u001b[49m\u001b[43my\u001b[49m\u001b[43m)\u001b[49m\u001b[43m,\u001b[49m\u001b[43m \u001b[49m\u001b[43m(\u001b[49m\u001b[38;5;124;43m\"\u001b[39;49m\u001b[38;5;124;43my\u001b[39;49m\u001b[38;5;124;43m\"\u001b[39;49m\u001b[43m,\u001b[49m\u001b[43m \u001b[49m\u001b[43mheight\u001b[49m\u001b[43m)\u001b[49m\u001b[43m]\u001b[49m\u001b[43m,\u001b[49m\u001b[43m \u001b[49m\u001b[43mkwargs\u001b[49m\u001b[43m,\u001b[49m\u001b[43m \u001b[49m\u001b[43mconvert\u001b[49m\u001b[38;5;241;43m=\u001b[39;49m\u001b[38;5;28;43;01mFalse\u001b[39;49;00m\u001b[43m)\u001b[49m\n\u001b[1;32m   2494\u001b[0m     \u001b[38;5;28;01mif\u001b[39;00m log:\n\u001b[1;32m   2495\u001b[0m         \u001b[38;5;28mself\u001b[39m\u001b[38;5;241m.\u001b[39mset_yscale(\u001b[38;5;124m'\u001b[39m\u001b[38;5;124mlog\u001b[39m\u001b[38;5;124m'\u001b[39m, nonpositive\u001b[38;5;241m=\u001b[39m\u001b[38;5;124m'\u001b[39m\u001b[38;5;124mclip\u001b[39m\u001b[38;5;124m'\u001b[39m)\n",
      "File \u001b[0;32m~/Documents/Master/M2/Fouille des données/Projet/Projet_FDD/myenv/lib/python3.10/site-packages/matplotlib/axes/_base.py:2585\u001b[0m, in \u001b[0;36m_AxesBase._process_unit_info\u001b[0;34m(self, datasets, kwargs, convert)\u001b[0m\n\u001b[1;32m   2583\u001b[0m     \u001b[38;5;66;03m# Update from data if axis is already set but no unit is set yet.\u001b[39;00m\n\u001b[1;32m   2584\u001b[0m     \u001b[38;5;28;01mif\u001b[39;00m axis \u001b[38;5;129;01mis\u001b[39;00m \u001b[38;5;129;01mnot\u001b[39;00m \u001b[38;5;28;01mNone\u001b[39;00m \u001b[38;5;129;01mand\u001b[39;00m data \u001b[38;5;129;01mis\u001b[39;00m \u001b[38;5;129;01mnot\u001b[39;00m \u001b[38;5;28;01mNone\u001b[39;00m \u001b[38;5;129;01mand\u001b[39;00m \u001b[38;5;129;01mnot\u001b[39;00m axis\u001b[38;5;241m.\u001b[39mhave_units():\n\u001b[0;32m-> 2585\u001b[0m         \u001b[43maxis\u001b[49m\u001b[38;5;241;43m.\u001b[39;49m\u001b[43mupdate_units\u001b[49m\u001b[43m(\u001b[49m\u001b[43mdata\u001b[49m\u001b[43m)\u001b[49m\n\u001b[1;32m   2586\u001b[0m \u001b[38;5;28;01mfor\u001b[39;00m axis_name, axis \u001b[38;5;129;01min\u001b[39;00m axis_map\u001b[38;5;241m.\u001b[39mitems():\n\u001b[1;32m   2587\u001b[0m     \u001b[38;5;66;03m# Return if no axis is set.\u001b[39;00m\n\u001b[1;32m   2588\u001b[0m     \u001b[38;5;28;01mif\u001b[39;00m axis \u001b[38;5;129;01mis\u001b[39;00m \u001b[38;5;28;01mNone\u001b[39;00m:\n",
      "File \u001b[0;32m~/Documents/Master/M2/Fouille des données/Projet/Projet_FDD/myenv/lib/python3.10/site-packages/matplotlib/axis.py:1756\u001b[0m, in \u001b[0;36mAxis.update_units\u001b[0;34m(self, data)\u001b[0m\n\u001b[1;32m   1754\u001b[0m neednew \u001b[38;5;241m=\u001b[39m \u001b[38;5;28mself\u001b[39m\u001b[38;5;241m.\u001b[39mconverter \u001b[38;5;241m!=\u001b[39m converter\n\u001b[1;32m   1755\u001b[0m \u001b[38;5;28mself\u001b[39m\u001b[38;5;241m.\u001b[39mconverter \u001b[38;5;241m=\u001b[39m converter\n\u001b[0;32m-> 1756\u001b[0m default \u001b[38;5;241m=\u001b[39m \u001b[38;5;28;43mself\u001b[39;49m\u001b[38;5;241;43m.\u001b[39;49m\u001b[43mconverter\u001b[49m\u001b[38;5;241;43m.\u001b[39;49m\u001b[43mdefault_units\u001b[49m\u001b[43m(\u001b[49m\u001b[43mdata\u001b[49m\u001b[43m,\u001b[49m\u001b[43m \u001b[49m\u001b[38;5;28;43mself\u001b[39;49m\u001b[43m)\u001b[49m\n\u001b[1;32m   1757\u001b[0m \u001b[38;5;28;01mif\u001b[39;00m default \u001b[38;5;129;01mis\u001b[39;00m \u001b[38;5;129;01mnot\u001b[39;00m \u001b[38;5;28;01mNone\u001b[39;00m \u001b[38;5;129;01mand\u001b[39;00m \u001b[38;5;28mself\u001b[39m\u001b[38;5;241m.\u001b[39munits \u001b[38;5;129;01mis\u001b[39;00m \u001b[38;5;28;01mNone\u001b[39;00m:\n\u001b[1;32m   1758\u001b[0m     \u001b[38;5;28mself\u001b[39m\u001b[38;5;241m.\u001b[39mset_units(default)\n",
      "File \u001b[0;32m~/Documents/Master/M2/Fouille des données/Projet/Projet_FDD/myenv/lib/python3.10/site-packages/matplotlib/category.py:105\u001b[0m, in \u001b[0;36mStrCategoryConverter.default_units\u001b[0;34m(data, axis)\u001b[0m\n\u001b[1;32m    103\u001b[0m \u001b[38;5;66;03m# the conversion call stack is default_units -> axis_info -> convert\u001b[39;00m\n\u001b[1;32m    104\u001b[0m \u001b[38;5;28;01mif\u001b[39;00m axis\u001b[38;5;241m.\u001b[39munits \u001b[38;5;129;01mis\u001b[39;00m \u001b[38;5;28;01mNone\u001b[39;00m:\n\u001b[0;32m--> 105\u001b[0m     axis\u001b[38;5;241m.\u001b[39mset_units(\u001b[43mUnitData\u001b[49m\u001b[43m(\u001b[49m\u001b[43mdata\u001b[49m\u001b[43m)\u001b[49m)\n\u001b[1;32m    106\u001b[0m \u001b[38;5;28;01melse\u001b[39;00m:\n\u001b[1;32m    107\u001b[0m     axis\u001b[38;5;241m.\u001b[39munits\u001b[38;5;241m.\u001b[39mupdate(data)\n",
      "File \u001b[0;32m~/Documents/Master/M2/Fouille des données/Projet/Projet_FDD/myenv/lib/python3.10/site-packages/matplotlib/category.py:181\u001b[0m, in \u001b[0;36mUnitData.__init__\u001b[0;34m(self, data)\u001b[0m\n\u001b[1;32m    179\u001b[0m \u001b[38;5;28mself\u001b[39m\u001b[38;5;241m.\u001b[39m_counter \u001b[38;5;241m=\u001b[39m itertools\u001b[38;5;241m.\u001b[39mcount()\n\u001b[1;32m    180\u001b[0m \u001b[38;5;28;01mif\u001b[39;00m data \u001b[38;5;129;01mis\u001b[39;00m \u001b[38;5;129;01mnot\u001b[39;00m \u001b[38;5;28;01mNone\u001b[39;00m:\n\u001b[0;32m--> 181\u001b[0m     \u001b[38;5;28;43mself\u001b[39;49m\u001b[38;5;241;43m.\u001b[39;49m\u001b[43mupdate\u001b[49m\u001b[43m(\u001b[49m\u001b[43mdata\u001b[49m\u001b[43m)\u001b[49m\n",
      "File \u001b[0;32m~/Documents/Master/M2/Fouille des données/Projet/Projet_FDD/myenv/lib/python3.10/site-packages/matplotlib/category.py:214\u001b[0m, in \u001b[0;36mUnitData.update\u001b[0;34m(self, data)\u001b[0m\n\u001b[1;32m    212\u001b[0m \u001b[38;5;66;03m# check if convertible to number:\u001b[39;00m\n\u001b[1;32m    213\u001b[0m convertible \u001b[38;5;241m=\u001b[39m \u001b[38;5;28;01mTrue\u001b[39;00m\n\u001b[0;32m--> 214\u001b[0m \u001b[38;5;28;01mfor\u001b[39;00m val \u001b[38;5;129;01min\u001b[39;00m \u001b[43mOrderedDict\u001b[49m\u001b[38;5;241;43m.\u001b[39;49m\u001b[43mfromkeys\u001b[49m\u001b[43m(\u001b[49m\u001b[43mdata\u001b[49m\u001b[43m)\u001b[49m:\n\u001b[1;32m    215\u001b[0m     \u001b[38;5;66;03m# OrderedDict just iterates over unique values in data.\u001b[39;00m\n\u001b[1;32m    216\u001b[0m     _api\u001b[38;5;241m.\u001b[39mcheck_isinstance((\u001b[38;5;28mstr\u001b[39m, \u001b[38;5;28mbytes\u001b[39m), value\u001b[38;5;241m=\u001b[39mval)\n\u001b[1;32m    217\u001b[0m     \u001b[38;5;28;01mif\u001b[39;00m convertible:\n\u001b[1;32m    218\u001b[0m         \u001b[38;5;66;03m# this will only be called so long as convertible is True.\u001b[39;00m\n",
      "\u001b[0;31mTypeError\u001b[0m: unhashable type: 'Series'"
     ]
    },
    {
     "data": {
      "image/png": "[encoded data removed]",
      "text/plain": [
       "<Figure size 640x480 with 1 Axes>"
      ]
     },
     "metadata": {},
     "output_type": "display_data"
    }
   ],
   "source": [
    "get_voeu_confirme_max()"
   ]
  }
 ],
 "metadata": {
  "kernelspec": {
   "display_name": "myenv",
   "language": "python",
   "name": "python3"
  },
  "language_info": {
   "codemirror_mode": {
    "name": "ipython",
    "version": 3
   },
   "file_extension": ".py",
   "mimetype": "text/x-python",
   "name": "python",
   "nbconvert_exporter": "python",
   "pygments_lexer": "ipython3",
   "version": "3.10.14"
  }
 },
 "nbformat": 4,
 "nbformat_minor": 2
}
