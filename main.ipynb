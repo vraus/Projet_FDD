{
 "cells": [
  {
   "cell_type": "markdown",
   "metadata": {},
   "source": [
    "# Prédiction du nombre de nouveaux étudiants en L1"
   ]
  },
  {
   "cell_type": "markdown",
   "metadata": {},
   "source": [
    "## 1. Prétraitement des données\n",
    "\n",
    "- Importation des librairies\n",
    "- Importation du jeu de données\n",
    "- Nettoyage des données:\n",
    "    1. Verification s'il y a des données manquantes au jeu de données"
   ]
  },
  {
   "cell_type": "code",
   "execution_count": 82,
   "metadata": {},
   "outputs": [],
   "source": [
    "import pandas as pd\n",
    "import numpy as np\n",
    "import matplotlib as plt\n",
    "import seaborn"
   ]
  },
  {
   "cell_type": "markdown",
   "metadata": {},
   "source": [
    "Récupéraion du dataset"
   ]
  },
  {
   "cell_type": "code",
   "execution_count": 83,
   "metadata": {},
   "outputs": [],
   "source": [
    "df = pd.read_csv(\"datas/prop_admi_post_bac.csv\",sep=\";\")"
   ]
  },
  {
   "cell_type": "markdown",
   "metadata": {},
   "source": [
    "Visualisation des données"
   ]
  },
  {
   "cell_type": "code",
   "execution_count": 84,
   "metadata": {},
   "outputs": [
    {
     "data": {
      "text/html": [
       "<div>\n",
       "<style scoped>\n",
       "    .dataframe tbody tr th:only-of-type {\n",
       "        vertical-align: middle;\n",
       "    }\n",
       "\n",
       "    .dataframe tbody tr th {\n",
       "        vertical-align: top;\n",
       "    }\n",
       "\n",
       "    .dataframe thead th {\n",
       "        text-align: right;\n",
       "    }\n",
       "</style>\n",
       "<table border=\"1\" class=\"dataframe\">\n",
       "  <thead>\n",
       "    <tr style=\"text-align: right;\">\n",
       "      <th></th>\n",
       "      <th>Année du Baccalauréat</th>\n",
       "      <th>Enseignements de spécialité</th>\n",
       "      <th>Formation</th>\n",
       "      <th>Nombre de candidats bacheliers ayant confirmé au moins un vœu</th>\n",
       "      <th>Nombre de candidats bacheliers ayant reçu au moins une proposition d'admission</th>\n",
       "      <th>Nombre de candidats bacheliers ayant accepté une proposition d'admission</th>\n",
       "    </tr>\n",
       "  </thead>\n",
       "  <tbody>\n",
       "    <tr>\n",
       "      <th>0</th>\n",
       "      <td>2021</td>\n",
       "      <td>Art,Art</td>\n",
       "      <td>Licence Electronique, Génie électrique, EEA</td>\n",
       "      <td>0</td>\n",
       "      <td>0.0</td>\n",
       "      <td>0</td>\n",
       "    </tr>\n",
       "    <tr>\n",
       "      <th>1</th>\n",
       "      <td>2021</td>\n",
       "      <td>Art,Art</td>\n",
       "      <td>Licence Formation générale aux métiers de l in...</td>\n",
       "      <td>0</td>\n",
       "      <td>0.0</td>\n",
       "      <td>0</td>\n",
       "    </tr>\n",
       "    <tr>\n",
       "      <th>2</th>\n",
       "      <td>2021</td>\n",
       "      <td>Art,Art</td>\n",
       "      <td>Licence LEA</td>\n",
       "      <td>0</td>\n",
       "      <td>0.0</td>\n",
       "      <td>0</td>\n",
       "    </tr>\n",
       "    <tr>\n",
       "      <th>3</th>\n",
       "      <td>2021</td>\n",
       "      <td>Art,Art</td>\n",
       "      <td>Licence Mathématiques</td>\n",
       "      <td>0</td>\n",
       "      <td>0.0</td>\n",
       "      <td>0</td>\n",
       "    </tr>\n",
       "    <tr>\n",
       "      <th>4</th>\n",
       "      <td>2021</td>\n",
       "      <td>Art,Art</td>\n",
       "      <td>Licence Mathématiques et informatique</td>\n",
       "      <td>0</td>\n",
       "      <td>0.0</td>\n",
       "      <td>0</td>\n",
       "    </tr>\n",
       "  </tbody>\n",
       "</table>\n",
       "</div>"
      ],
      "text/plain": [
       "   Année du Baccalauréat Enseignements de spécialité  \\\n",
       "0                   2021                     Art,Art   \n",
       "1                   2021                     Art,Art   \n",
       "2                   2021                     Art,Art   \n",
       "3                   2021                     Art,Art   \n",
       "4                   2021                     Art,Art   \n",
       "\n",
       "                                           Formation  \\\n",
       "0        Licence Electronique, Génie électrique, EEA   \n",
       "1  Licence Formation générale aux métiers de l in...   \n",
       "2                                        Licence LEA   \n",
       "3                              Licence Mathématiques   \n",
       "4              Licence Mathématiques et informatique   \n",
       "\n",
       "   Nombre de candidats bacheliers ayant confirmé au moins un vœu  \\\n",
       "0                                                  0               \n",
       "1                                                  0               \n",
       "2                                                  0               \n",
       "3                                                  0               \n",
       "4                                                  0               \n",
       "\n",
       "   Nombre de candidats bacheliers ayant reçu au moins une proposition d'admission  \\\n",
       "0                                                0.0                                \n",
       "1                                                0.0                                \n",
       "2                                                0.0                                \n",
       "3                                                0.0                                \n",
       "4                                                0.0                                \n",
       "\n",
       "   Nombre de candidats bacheliers ayant accepté une proposition d'admission  \n",
       "0                                                  0                         \n",
       "1                                                  0                         \n",
       "2                                                  0                         \n",
       "3                                                  0                         \n",
       "4                                                  0                         "
      ]
     },
     "execution_count": 84,
     "metadata": {},
     "output_type": "execute_result"
    }
   ],
   "source": [
    "df.head(5)"
   ]
  },
  {
   "cell_type": "markdown",
   "metadata": {},
   "source": [
    "Nous vérifions si une colonne comporte des données manquantes. Comme nous pouvons le voir, aucune ligne n'est vide."
   ]
  },
  {
   "cell_type": "code",
   "execution_count": 85,
   "metadata": {},
   "outputs": [
    {
     "data": {
      "text/plain": [
       "Année du Baccalauréat                                                             0\n",
       "Enseignements de spécialité                                                       0\n",
       "Formation                                                                         0\n",
       "Nombre de candidats bacheliers ayant confirmé au moins un vœu                     0\n",
       "Nombre de candidats bacheliers ayant reçu au moins une proposition d'admission    0\n",
       "Nombre de candidats bacheliers ayant accepté une proposition d'admission          0\n",
       "dtype: int64"
      ]
     },
     "execution_count": 85,
     "metadata": {},
     "output_type": "execute_result"
    }
   ],
   "source": [
    "df.isna().sum()"
   ]
  },
  {
   "cell_type": "markdown",
   "metadata": {},
   "source": [
    "Renommage des colonnes par soucis de simplification lors du traitement."
   ]
  },
  {
   "cell_type": "code",
   "execution_count": 86,
   "metadata": {},
   "outputs": [
    {
     "data": {
      "text/html": [
       "<div>\n",
       "<style scoped>\n",
       "    .dataframe tbody tr th:only-of-type {\n",
       "        vertical-align: middle;\n",
       "    }\n",
       "\n",
       "    .dataframe tbody tr th {\n",
       "        vertical-align: top;\n",
       "    }\n",
       "\n",
       "    .dataframe thead th {\n",
       "        text-align: right;\n",
       "    }\n",
       "</style>\n",
       "<table border=\"1\" class=\"dataframe\">\n",
       "  <thead>\n",
       "    <tr style=\"text-align: right;\">\n",
       "      <th></th>\n",
       "      <th>annee</th>\n",
       "      <th>spe</th>\n",
       "      <th>formation</th>\n",
       "      <th>voeu_confirme</th>\n",
       "      <th>prop_recu</th>\n",
       "      <th>prop_accepte</th>\n",
       "    </tr>\n",
       "  </thead>\n",
       "  <tbody>\n",
       "    <tr>\n",
       "      <th>0</th>\n",
       "      <td>2021</td>\n",
       "      <td>Art,Art</td>\n",
       "      <td>Licence Electronique, Génie électrique, EEA</td>\n",
       "      <td>0</td>\n",
       "      <td>0.0</td>\n",
       "      <td>0</td>\n",
       "    </tr>\n",
       "    <tr>\n",
       "      <th>1</th>\n",
       "      <td>2021</td>\n",
       "      <td>Art,Art</td>\n",
       "      <td>Licence Formation générale aux métiers de l in...</td>\n",
       "      <td>0</td>\n",
       "      <td>0.0</td>\n",
       "      <td>0</td>\n",
       "    </tr>\n",
       "    <tr>\n",
       "      <th>2</th>\n",
       "      <td>2021</td>\n",
       "      <td>Art,Art</td>\n",
       "      <td>Licence LEA</td>\n",
       "      <td>0</td>\n",
       "      <td>0.0</td>\n",
       "      <td>0</td>\n",
       "    </tr>\n",
       "    <tr>\n",
       "      <th>3</th>\n",
       "      <td>2021</td>\n",
       "      <td>Art,Art</td>\n",
       "      <td>Licence Mathématiques</td>\n",
       "      <td>0</td>\n",
       "      <td>0.0</td>\n",
       "      <td>0</td>\n",
       "    </tr>\n",
       "    <tr>\n",
       "      <th>4</th>\n",
       "      <td>2021</td>\n",
       "      <td>Art,Art</td>\n",
       "      <td>Licence Mathématiques et informatique</td>\n",
       "      <td>0</td>\n",
       "      <td>0.0</td>\n",
       "      <td>0</td>\n",
       "    </tr>\n",
       "  </tbody>\n",
       "</table>\n",
       "</div>"
      ],
      "text/plain": [
       "   annee      spe                                          formation  \\\n",
       "0   2021  Art,Art        Licence Electronique, Génie électrique, EEA   \n",
       "1   2021  Art,Art  Licence Formation générale aux métiers de l in...   \n",
       "2   2021  Art,Art                                        Licence LEA   \n",
       "3   2021  Art,Art                              Licence Mathématiques   \n",
       "4   2021  Art,Art              Licence Mathématiques et informatique   \n",
       "\n",
       "   voeu_confirme  prop_recu  prop_accepte  \n",
       "0              0        0.0             0  \n",
       "1              0        0.0             0  \n",
       "2              0        0.0             0  \n",
       "3              0        0.0             0  \n",
       "4              0        0.0             0  "
      ]
     },
     "execution_count": 86,
     "metadata": {},
     "output_type": "execute_result"
    }
   ],
   "source": [
    "df.rename(columns={\"Année du Baccalauréat\" : \"annee\",\n",
    "           \"Enseignements de spécialité\" : \"spe\",\n",
    "           \"Formation\": \"formation\",\n",
    "           \"Nombre de candidats bacheliers ayant confirmé au moins un vœu\" : \"voeu_confirme\",\n",
    "           \"Nombre de candidats bacheliers ayant reçu au moins une proposition d'admission\" : \"prop_recu\",\n",
    "           \"Nombre de candidats bacheliers ayant accepté une proposition d'admission\" : \"prop_accepte\"}, inplace=True)\n",
    "df.head(5)"
   ]
  },
  {
   "cell_type": "markdown",
   "metadata": {},
   "source": [
    "Vérification et correction au besoin des types de données.\n",
    "\n",
    "Ici on remarque que prop_recu est de type float64. Aucune des valeurs de la colonne n'est de type float, on peu donc passer la colonne en Int."
   ]
  },
  {
   "cell_type": "code",
   "execution_count": 87,
   "metadata": {},
   "outputs": [
    {
     "data": {
      "text/plain": [
       "annee              int64\n",
       "spe               object\n",
       "formation         object\n",
       "voeu_confirme      int64\n",
       "prop_recu        float64\n",
       "prop_accepte       int64\n",
       "dtype: object"
      ]
     },
     "execution_count": 87,
     "metadata": {},
     "output_type": "execute_result"
    }
   ],
   "source": [
    "df.dtypes"
   ]
  },
  {
   "cell_type": "code",
   "execution_count": 88,
   "metadata": {},
   "outputs": [
    {
     "data": {
      "text/plain": [
       "array([4022, 1091,  641,  412,  325,  257,  228,  216,  169,  141,  132,\n",
       "        117,  115,   91,   87,   82,   78,   75,   74,   71,   65,   60,\n",
       "         59,   52,   48,   46,   43,   42,   40,   39,   37,   36,   35,\n",
       "         34,   29,   27,   25,   23,   22,   21,   20,   19,   18,   17,\n",
       "         16,   15,   14,   13,   12,   11,   10,    9,    8,    7,    6,\n",
       "          5,    4,    3,    2,    1])"
      ]
     },
     "execution_count": 88,
     "metadata": {},
     "output_type": "execute_result"
    }
   ],
   "source": [
    "df[\"prop_recu\"].value_counts().unique()"
   ]
  },
  {
   "cell_type": "code",
   "execution_count": 89,
   "metadata": {},
   "outputs": [],
   "source": [
    "df[\"prop_recu\"] = df[\"prop_recu\"].astype(int)"
   ]
  },
  {
   "cell_type": "code",
   "execution_count": 90,
   "metadata": {},
   "outputs": [
    {
     "data": {
      "text/plain": [
       "annee             int64\n",
       "spe              object\n",
       "formation        object\n",
       "voeu_confirme     int64\n",
       "prop_recu         int64\n",
       "prop_accepte      int64\n",
       "dtype: object"
      ]
     },
     "execution_count": 90,
     "metadata": {},
     "output_type": "execute_result"
    }
   ],
   "source": [
    "df.dtypes"
   ]
  },
  {
   "cell_type": "markdown",
   "metadata": {},
   "source": [
    "On sait que le nouveau bac demande à choisir une spécialité dominante et une spécialité secondaire. On remarque que la colonne spe sépare ses données par une virgule, mais parfois le nom d'une spécialité contient une virgule. On remarque également que lorsque la virgule sépare deux spécialités (Art,Art), il n'y a pas d'espace après celle-ci, et que quand la virgule est dans le nom d'une spécialité, (Histoire-Géographie, Géopolitique et Sciences politiques), il y a un espace après la virgule. \n",
    "\n",
    "Cette information pourra être importante si nous décidons de séparer la colonne des spécialités et de regarder en fonction d'une spécialité en particulier plutôt qu'une combinaison de spécialité. Pour le moment il n'est pas utile de traiter plus que cela cette colonne, mais c'est à garder dans un coin pour plus tard au besoin."
   ]
  },
  {
   "cell_type": "code",
   "execution_count": 91,
   "metadata": {},
   "outputs": [
    {
     "data": {
      "text/plain": [
       "array(['Art,Art',\n",
       "       'Art,Histoire-Géographie, Géopolitique et Sciences politiques',\n",
       "       'Art,Humanités, Littérature et Philosophie',\n",
       "       'Art,Langues, littératures et cultures étrangères et régionales',\n",
       "       'Art,Mathématiques Spécialité',\n",
       "       'Art,Numérique et Sciences Informatiques',\n",
       "       'Art,Physique-Chimie Spécialité',\n",
       "       'Art,Sciences Economiques et Sociales Spécialité',\n",
       "       \"Art,Sciences de l'ingénieur et sciences physiques\",\n",
       "       'Art,Sciences de la vie et de la Terre Spécialité',\n",
       "       'Biologie/Ecologie,Histoire-Géographie, Géopolitique et Sciences politiques',\n",
       "       'Biologie/Ecologie,Humanités, Littérature et Philosophie',\n",
       "       'Biologie/Ecologie,Langues, littératures et cultures étrangères et régionales',\n",
       "       'Biologie/Ecologie,Mathématiques Spécialité',\n",
       "       'Biologie/Ecologie,Physique-Chimie Spécialité',\n",
       "       'Biologie/Ecologie,Sciences Economiques et Sociales Spécialité',\n",
       "       'Histoire-Géographie, Géopolitique et Sciences politiques,Humanités, Littérature et Philosophie',\n",
       "       'Histoire-Géographie, Géopolitique et Sciences politiques,Langues, littératures et cultures étrangères et régionales',\n",
       "       'Histoire-Géographie, Géopolitique et Sciences politiques,Numérique et Sciences Informatiques',\n",
       "       'Humanités, Littérature et Philosophie,Langues, littératures et cultures étrangères et régionales',\n",
       "       \"Littérature et langues et cultures de l'Antiquité,Art\",\n",
       "       \"Littérature et langues et cultures de l'Antiquité,Histoire-Géographie, Géopolitique et Sciences politiques\",\n",
       "       \"Littérature et langues et cultures de l'Antiquité,Humanités, Littérature et Philosophie\",\n",
       "       \"Littérature et langues et cultures de l'Antiquité,Langues, littératures et cultures étrangères et régionales\",\n",
       "       \"Littérature et langues et cultures de l'Antiquité,Mathématiques Spécialité\",\n",
       "       \"Littérature et langues et cultures de l'Antiquité,Numérique et Sciences Informatiques\",\n",
       "       \"Littérature et langues et cultures de l'Antiquité,Physique-Chimie Spécialité\",\n",
       "       \"Littérature et langues et cultures de l'Antiquité,Sciences Economiques et Sociales Spécialité\",\n",
       "       \"Littérature et langues et cultures de l'Antiquité,Sciences de la vie et de la Terre Spécialité\",\n",
       "       'Mathématiques Spécialité,Histoire-Géographie, Géopolitique et Sciences politiques',\n",
       "       'Mathématiques Spécialité,Humanités, Littérature et Philosophie',\n",
       "       'Mathématiques Spécialité,Langues, littératures et cultures étrangères et régionales',\n",
       "       'Mathématiques Spécialité,Numérique et Sciences Informatiques',\n",
       "       'Mathématiques Spécialité,Physique-Chimie Spécialité',\n",
       "       'Mathématiques Spécialité,Sciences Economiques et Sociales Spécialité',\n",
       "       \"Mathématiques Spécialité,Sciences de l'ingénieur et sciences physiques\",\n",
       "       'Mathématiques Spécialité,Sciences de la vie et de la Terre Spécialité',\n",
       "       'Numérique et Sciences Informatiques,Humanités, Littérature et Philosophie',\n",
       "       'Numérique et Sciences Informatiques,Langues, littératures et cultures étrangères et régionales',\n",
       "       'Physique-Chimie Spécialité,Histoire-Géographie, Géopolitique et Sciences politiques',\n",
       "       'Physique-Chimie Spécialité,Humanités, Littérature et Philosophie',\n",
       "       'Physique-Chimie Spécialité,Langues, littératures et cultures étrangères et régionales',\n",
       "       'Physique-Chimie Spécialité,Numérique et Sciences Informatiques',\n",
       "       'Physique-Chimie Spécialité,Sciences Economiques et Sociales Spécialité',\n",
       "       \"Physique-Chimie Spécialité,Sciences de l'ingénieur et sciences physiques\",\n",
       "       'Physique-Chimie Spécialité,Sciences de la vie et de la Terre Spécialité',\n",
       "       'Sciences Economiques et Sociales Spécialité,Histoire-Géographie, Géopolitique et Sciences politiques',\n",
       "       'Sciences Economiques et Sociales Spécialité,Humanités, Littérature et Philosophie',\n",
       "       'Sciences Economiques et Sociales Spécialité,Langues, littératures et cultures étrangères et régionales',\n",
       "       'Sciences Economiques et Sociales Spécialité,Numérique et Sciences Informatiques',\n",
       "       \"Sciences Economiques et Sociales Spécialité,Sciences de l'ingénieur et sciences physiques\",\n",
       "       \"Sciences de l'ingénieur et sciences physiques,Histoire-Géographie, Géopolitique et Sciences politiques\",\n",
       "       \"Sciences de l'ingénieur et sciences physiques,Humanités, Littérature et Philosophie\",\n",
       "       \"Sciences de l'ingénieur et sciences physiques,Langues, littératures et cultures étrangères et régionales\",\n",
       "       \"Sciences de l'ingénieur et sciences physiques,Numérique et Sciences Informatiques\",\n",
       "       'Sciences de la vie et de la Terre Spécialité,Histoire-Géographie, Géopolitique et Sciences politiques',\n",
       "       'Sciences de la vie et de la Terre Spécialité,Humanités, Littérature et Philosophie',\n",
       "       'Sciences de la vie et de la Terre Spécialité,Langues, littératures et cultures étrangères et régionales',\n",
       "       'Sciences de la vie et de la Terre Spécialité,Numérique et Sciences Informatiques',\n",
       "       'Sciences de la vie et de la Terre Spécialité,Sciences Economiques et Sociales Spécialité',\n",
       "       \"Sciences de la vie et de la Terre Spécialité,Sciences de l'ingénieur et sciences physiques\",\n",
       "       'Biologie/Ecologie,Numérique et Sciences Informatiques',\n",
       "       'Biologie/Ecologie,Sciences de la vie et de la Terre Spécialité',\n",
       "       'Art,Éducation physique, pratiques et culture sportives',\n",
       "       'Histoire-Géographie, Géopolitique et Sciences politiques,Éducation physique, pratiques et culture sportives',\n",
       "       'Humanités, Littérature et Philosophie,Éducation physique, pratiques et culture sportives',\n",
       "       'Langues, littératures et cultures étrangères et régionales,Éducation physique, pratiques et culture sportives',\n",
       "       'Mathématiques Spécialité,Éducation physique, pratiques et culture sportives',\n",
       "       'Numérique et Sciences Informatiques,Éducation physique, pratiques et culture sportives',\n",
       "       'Physique-Chimie Spécialité,Éducation physique, pratiques et culture sportives',\n",
       "       'Sciences Economiques et Sociales Spécialité,Éducation physique, pratiques et culture sportives',\n",
       "       \"Sciences de l'ingénieur et sciences physiques,Éducation physique, pratiques et culture sportives\",\n",
       "       'Sciences de la vie et de la Terre Spécialité,Éducation physique, pratiques et culture sportives'],\n",
       "      dtype=object)"
      ]
     },
     "execution_count": 91,
     "metadata": {},
     "output_type": "execute_result"
    }
   ],
   "source": [
    "df[\"spe\"].unique()"
   ]
  },
  {
   "cell_type": "markdown",
   "metadata": {},
   "source": [
    "## Lecture des données"
   ]
  },
  {
   "cell_type": "markdown",
   "metadata": {},
   "source": [
    "Nous avons 6 variables différentes dans notre dataset :\n",
    "\n",
    "- annee :\n",
    "    - L'année du passage du BAC pour les étudiants\n",
    "    - type *int*, [2021-2023]\n",
    "- spé :\n",
    "    - Spécialités lors du passage du BAC\n",
    "    - type *(string, string)*: (spé1,spé2)\n",
    "- formation : \n",
    "    - Formation postulés par les étudiants, \n",
    "    - type *string*\n",
    "- voeu_accepté :\n",
    "    - Nombre de voeux confirmés par les étudiants\n",
    "    - type *int*, [0, inf]\n",
    "- prop_recu :\n",
    "    - Nombre de propositions d'admission reçus par les étudiants\n",
    "    - type *int*, [0, prop_reçu]\n",
    "- prop_accepte :\n",
    "     - Nombre de proposition d'admission acceptés par les étudiants\n",
    "    - type *int*, [0, voeu_accepté]"
   ]
  }
 ],
 "metadata": {
  "kernelspec": {
   "display_name": "myenv",
   "language": "python",
   "name": "python3"
  },
  "language_info": {
   "codemirror_mode": {
    "name": "ipython",
    "version": 3
   },
   "file_extension": ".py",
   "mimetype": "text/x-python",
   "name": "python",
   "nbconvert_exporter": "python",
   "pygments_lexer": "ipython3",
   "version": "3.10.14"
  }
 },
 "nbformat": 4,
 "nbformat_minor": 2
}
